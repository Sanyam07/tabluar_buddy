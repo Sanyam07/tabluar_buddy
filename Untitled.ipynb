{
 "cells": [
  {
   "cell_type": "code",
   "execution_count": 85,
   "metadata": {
    "ExecuteTime": {
     "end_time": "2019-07-05T05:38:52.332926Z",
     "start_time": "2019-07-05T05:38:52.198707Z"
    }
   },
   "outputs": [],
   "source": [
    "import random\n",
    "from functools import partial\n",
    "\n",
    "import numpy as np\n",
    "import pandas as pd\n",
    "from numba import jit\n",
    "\n",
    "\n",
    "data = pd.read_csv(\"/Users/kun/Downloads/pred_mul_lgb_b20190704_235241.csv\")\n",
    "\n",
    "def exp_multi_f1(pred, int_preds, weights=None, silent=True):\n",
    "    int_preds_dummy = pd.get_dummies(pd.Series(int_preds))\n",
    "    pred = pd.DataFrame(pred, columns=int_preds_dummy.columns)\n",
    "    scores = []\n",
    "    for c in pred.columns:\n",
    "        n = pred[c].sum()\n",
    "        m = int_preds_dummy[c].sum()\n",
    "        r = pred[int_preds_dummy[c] == 1][c].sum()\n",
    "        f1 = 2 * r / (m + n)\n",
    "        if not silent:\n",
    "            print(\"{}       :   {}\".format(c, f1))\n",
    "        scores.append(f1)\n",
    "    return np.average(scores, weights=weights)\n",
    "\n",
    "#差分\n",
    "# @jit(nopython=True)\n",
    "@jit\n",
    "def derivative(arg, p):\n",
    "    m, n, r = arg\n",
    "    s = m + n\n",
    "    return 2 * (p * s - r) / (s + 1) / s\n",
    "\n",
    "def get_multi_f1_threshold_di(preds, int_preds, preds_flag):\n",
    "    lenn = int_preds.shape[0]\n",
    "    int_preds_matrix = np.zeros([lenn, 12])\n",
    "    int_preds_matrix[np.arange(lenn), int_preds] = 1\n",
    "    para_dict = {}\n",
    "    for i in range(preds.shape[1]):\n",
    "        m = preds[:, i].sum()                               ##真实个数（估值）\n",
    "        n = int_preds_matrix[:, i].sum()                    ##预测个数\n",
    "        r = preds[int_preds_matrix[:, i] == 1, i].sum()     ##正确个数（估值）\n",
    "        para_dict[i] = [m, n, r]\n",
    "    for i in range(preds.shape[0]):\n",
    "        if preds_flag[i]:\n",
    "            continue\n",
    "        else:\n",
    "            temp = np.argmax([derivative(para_dict[j],preds[i,j])*weights[j] for j in range(preds.shape[1])])\n",
    "            orig = int_preds[i]\n",
    "            if temp != orig:\n",
    "                m, n, r = para_dict[temp]\n",
    "                para_dict[temp] = (m,n+1,r+preds[i,temp])\n",
    "                m, n, r = para_dict[orig]\n",
    "                para_dict[orig] = (m, n - 1, r - preds[i, orig])\n",
    "                int_preds[i] = temp\n",
    "    return int_preds\n",
    "\n",
    "# 多分类f1最佳阈值\n",
    "def get_multi_f1_threshold(preds, weights=None, n_round=3):\n",
    "    '''\n",
    "    :param preds: 二维的概率矩阵\n",
    "    :param weight: 每个种类所占的比重，默认为1（权重一样）\n",
    "    :param n_round: 优化循环次数\n",
    "    :return:\n",
    "    '''\n",
    "    if weights is None :\n",
    "        weights = np.ones(preds.shape[1])\n",
    "\n",
    "    int_preds = preds.argmax(axis=1)\n",
    "    preds_flag = list(preds.max(axis=1)>0.65)\n",
    "    for i in range(n_round):\n",
    "        int_preds = get_multi_f1_threshold_di(preds, int_preds, preds_flag)\n",
    "    return int_preds\n",
    "\n",
    "\n",
    "# import time\n",
    "# start_time = time.time()\n",
    "# res_old = get_multi_f1_threshold(data.iloc[:,2:14].values)\n",
    "# print(time.time() - start_time)\n",
    "\n",
    "# 期望的分：    0.5465103303103639\n",
    "# 期望的分：    0.5486109523853776\n",
    "# 期望的分：    0.5486139530125725\n",
    "# 15.98586392402649s\n",
    "\n",
    "\n",
    "# 改动点1: 属于全变为Numpy和python内置数据类型\n",
    "# 改动点2: 利用numba, derivative函数用jit装饰\n",
    "# 改动点3: 函数放外面，不嵌套\n",
    "import time\n",
    "start_time = time.time()\n",
    "res_numba = get_multi_f1_threshold(data.iloc[:,2:14].values)\n",
    "print(time.time() - start_time)\n",
    "# 8.370285987854004s\n",
    "\n",
    "print(np.mean(res_old == res_numba))"
   ]
  },
  {
   "cell_type": "code",
   "execution_count": 88,
   "metadata": {
    "ExecuteTime": {
     "end_time": "2019-07-05T05:43:05.933064Z",
     "start_time": "2019-07-05T05:42:58.367078Z"
    }
   },
   "outputs": [
    {
     "name": "stdout",
     "output_type": "stream",
     "text": [
      "7.561756134033203\n"
     ]
    }
   ],
   "source": [
    "import time\n",
    "start_time = time.time()\n",
    "res_numba = get_multi_f1_threshold(data.iloc[:,2:14].values)\n",
    "print(time.time() - start_time)"
   ]
  }
 ],
 "metadata": {
  "kernelspec": {
   "display_name": "Python 3",
   "language": "python",
   "name": "python3"
  },
  "language_info": {
   "codemirror_mode": {
    "name": "ipython",
    "version": 3
   },
   "file_extension": ".py",
   "mimetype": "text/x-python",
   "name": "python",
   "nbconvert_exporter": "python",
   "pygments_lexer": "ipython3",
   "version": "3.6.3"
  },
  "toc": {
   "nav_menu": {},
   "number_sections": true,
   "sideBar": true,
   "skip_h1_title": false,
   "title_cell": "Table of Contents",
   "title_sidebar": "Contents",
   "toc_cell": false,
   "toc_position": {},
   "toc_section_display": true,
   "toc_window_display": false
  },
  "varInspector": {
   "cols": {
    "lenName": 16,
    "lenType": 16,
    "lenVar": 40
   },
   "kernels_config": {
    "python": {
     "delete_cmd_postfix": "",
     "delete_cmd_prefix": "del ",
     "library": "var_list.py",
     "varRefreshCmd": "print(var_dic_list())"
    },
    "r": {
     "delete_cmd_postfix": ") ",
     "delete_cmd_prefix": "rm(",
     "library": "var_list.r",
     "varRefreshCmd": "cat(var_dic_list()) "
    }
   },
   "types_to_exclude": [
    "module",
    "function",
    "builtin_function_or_method",
    "instance",
    "_Feature"
   ],
   "window_display": false
  }
 },
 "nbformat": 4,
 "nbformat_minor": 4
}
