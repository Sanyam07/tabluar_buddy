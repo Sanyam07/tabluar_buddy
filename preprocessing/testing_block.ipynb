{
 "cells": [
  {
   "cell_type": "code",
   "execution_count": 1,
   "metadata": {},
   "outputs": [],
   "source": [
    "from sklearn.base import BaseEstimator, TransformerMixin"
   ]
  },
  {
   "cell_type": "code",
   "execution_count": null,
   "metadata": {
    "code_folding": [
     14
    ]
   },
   "outputs": [],
   "source": [
    "f = 'ps_ind_05_cat'\n",
    "trn_series=X_cv_trn[f].copy()\n",
    "val_series=X_cv_val[f].copy()\n",
    "tst_series=X_test[f].copy()\n",
    "target=y_cv_trn.copy()\n",
    "min_samples_leaf=200\n",
    "smoothing=10,\n",
    "noise_level=0\n",
    "\n",
    "def add_noise(series, noise_level):\n",
    "    return series * (1 + noise_level * np.random.randn(len(series)))\n",
    "\n",
    "def smoothing_kernel(n, k, f):\n",
    "    '''\n",
    "    Patameter:\n",
    "    ---------\n",
    "    f: smoothing\n",
    "       provides control over the slope of the function around the inflexion point.\n",
    "       controls the rate of transition between the cell's posterior probability and the prior probability.\n",
    "    k: min_samples_leaf\n",
    "       determines half of the minimal sample size for which we completely trust the estimate based on the sample in the cell.\n",
    "    '''\n",
    "    return 1 / (1 + np.exp(-(n-k)/f))\n",
    "\n",
    "def target_encoding(train_series, target, valid_series, test_series, k=200, f=10, noise_level=0):\n",
    "    # compute prior probability\n",
    "    prior_prob = target.mean()\n",
    "    # compute post probability and cnt\n",
    "    tmp = pd.concat([train_series, target], axis=1)\n",
    "    post_prob = tmp.groupby([train_series.name])[target.name].mean()\n",
    "    post_cnt = tmp.groupby([train_series.name])[target.name].count()\n",
    "    # compute smoothing \n",
    "    sk = smoothing_kernel(post_cnt, k, f)\n",
    "    # compute smooth probability\n",
    "    p = sk*post_prob + (1-sk)*prior_prob\n",
    "    # map to origin variable\n",
    "    encoded_train = trn_series.map(p).fillna(prior_prob)\n",
    "    encoded_test = tst_series.map(post_prob).fillna(prior_prob)\n",
    "    return add_noise(encoded_train, 0), add_noise(encoded_test,0)\n",
    "\n",
    "target_encoding(trn_series, target, val_series, test_series)"
   ]
  }
 ],
 "metadata": {
  "anaconda-cloud": {},
  "kernelspec": {
   "display_name": "Python 3",
   "language": "python",
   "name": "python3"
  },
  "language_info": {
   "codemirror_mode": {
    "name": "ipython",
    "version": 3
   },
   "file_extension": ".py",
   "mimetype": "text/x-python",
   "name": "python",
   "nbconvert_exporter": "python",
   "pygments_lexer": "ipython3",
   "version": "3.6.3"
  },
  "toc": {
   "nav_menu": {
    "height": "12px",
    "width": "252px"
   },
   "number_sections": true,
   "sideBar": true,
   "skip_h1_title": false,
   "title_cell": "Table of Contents",
   "title_sidebar": "Contents",
   "toc_cell": false,
   "toc_position": {},
   "toc_section_display": "block",
   "toc_window_display": false
  },
  "varInspector": {
   "cols": {
    "lenName": 16,
    "lenType": 16,
    "lenVar": 40
   },
   "kernels_config": {
    "python": {
     "delete_cmd_postfix": "",
     "delete_cmd_prefix": "del ",
     "library": "var_list.py",
     "varRefreshCmd": "print(var_dic_list())"
    },
    "r": {
     "delete_cmd_postfix": ") ",
     "delete_cmd_prefix": "rm(",
     "library": "var_list.r",
     "varRefreshCmd": "cat(var_dic_list()) "
    }
   },
   "types_to_exclude": [
    "module",
    "function",
    "builtin_function_or_method",
    "instance",
    "_Feature"
   ],
   "window_display": false
  }
 },
 "nbformat": 4,
 "nbformat_minor": 2
}
